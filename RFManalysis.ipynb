{
  "nbformat": 4,
  "nbformat_minor": 0,
  "metadata": {
    "colab": {
      "name": "RFManalysis.ipynb",
      "provenance": [],
      "collapsed_sections": [],
      "authorship_tag": "ABX9TyMOphTQi9/hEJAQVl8GxRJd",
      "include_colab_link": true
    },
    "kernelspec": {
      "name": "python3",
      "display_name": "Python 3"
    },
    "language_info": {
      "name": "python"
    }
  },
  "cells": [
    {
      "cell_type": "markdown",
      "metadata": {
        "id": "view-in-github",
        "colab_type": "text"
      },
      "source": [
        "<a href=\"https://colab.research.google.com/github/HugoShaw/WashU_projects/blob/main/RFManalysis.ipynb\" target=\"_parent\"><img src=\"https://colab.research.google.com/assets/colab-badge.svg\" alt=\"Open In Colab\"/></a>"
      ]
    },
    {
      "cell_type": "markdown",
      "source": [
        "# RFM Analysis\n"
      ],
      "metadata": {
        "id": "u4DLEe_9CSeZ"
      }
    },
    {
      "cell_type": "markdown",
      "source": [
        "## type of predictive analysis\n",
        "- Heuristics (rule of thumb): RFM \n",
        "- Analyst-driven model (statistical): Regression, Discrete choice model\n",
        "- Data-driven model: nn, dt, recommender systems"
      ],
      "metadata": {
        "id": "wALbNGVjCSbq"
      }
    },
    {
      "cell_type": "markdown",
      "source": [
        "## Facts:\n",
        "- customers: demographics, behaviors\n",
        "- RFM purely based on behavior\n",
        "- Apply to existing customers, not to prospects\n",
        "- RFM is about response rate, not profitability"
      ],
      "metadata": {
        "id": "E7ew-fo-CSZR"
      }
    },
    {
      "cell_type": "markdown",
      "source": [
        "## Elements of RFM:\n",
        "- Recency: how long ago did customer make purchase?\n",
        "- Frequency: How many purchase has the customer made in a given period?; not good compared to recency\n",
        "- Monetary: How much has the customer spend in total in a given period? least predictive\n"
      ],
      "metadata": {
        "id": "Yb_NVsHRCSWg"
      }
    },
    {
      "cell_type": "markdown",
      "source": [
        "## Step One:\n",
        "1. pick the variable of interest (rfm)\n",
        "2. sort database from the best to the worst on the variable\n",
        "3. decide into how many groups to classify consumers; normally five groups (quintiles) or ten groups (deciles)\n",
        "4. assign consumers to groups\n"
      ],
      "metadata": {
        "id": "Ok5AVtP9CSTs"
      }
    },
    {
      "cell_type": "markdown",
      "source": [
        "## Step Two: \n",
        "1. assign every customer 3-digit code\n",
        "2. take a random sample of customers \n",
        "3. approach them with an offer\n",
        "4. calculate response rate per rfm cell"
      ],
      "metadata": {
        "id": "7yskS24dCSQS"
      }
    },
    {
      "cell_type": "markdown",
      "source": [
        "## Step Three: calculate break-even response rate \n",
        "* an offer is profitable if \n",
        "$$ profitabilityOfresponse × profitIfsold - costOftargeting ≥ 0 $$\n",
        "* break-even response rate\n",
        "$$ breakEvenResponseRate = costOftargeting ÷ profitIfsold $$"
      ],
      "metadata": {
        "id": "VvWIQklZCSFa"
      }
    },
    {
      "cell_type": "markdown",
      "source": [
        "**what is the average response rate overall (population)?**\n",
        "- CrossTable(data$buyer)\n",
        "\n",
        "**Are buyers and nonbuyers having same RFM?**\n",
        "- data %>% \n",
        "select(buyer, last, purch, total) %>%\n",
        "group_by(buyer) %>% \n",
        "summarise(across(everything(), list(average=mean)),.groups=\"drop\") %>% \n",
        "kable(digits=2) %>% kable_styling(position=\"left\")\n",
        "\n",
        "**Are R,F,M predict the same thing?**\n",
        "- data %>% \n",
        "select(last, purch, total) %>%\n",
        "as.matrix() %>%\n",
        "rcorr()\n"
      ],
      "metadata": {
        "id": "EeoySOdOJoDr"
      }
    },
    {
      "cell_type": "markdown",
      "source": [
        ""
      ],
      "metadata": {
        "id": "JFx52UzJJoAN"
      }
    },
    {
      "cell_type": "code",
      "source": [
        "try:\n",
        "    from google.colab import drive\n",
        "    drive.mount('/content/drive', force_remount=True)\n",
        "    COLAB = True\n",
        "    print(\"Note: using Google CoLab\")\n",
        "    %tensorflow_version 2.x\n",
        "except:\n",
        "    print(\"Note: not using Google CoLab\")\n",
        "    COLAB = False"
      ],
      "metadata": {
        "colab": {
          "base_uri": "https://localhost:8080/"
        },
        "id": "AG-facp5SCFD",
        "outputId": "fad3a19d-97a4-4756-c42a-f767998b300e"
      },
      "execution_count": 1,
      "outputs": [
        {
          "output_type": "stream",
          "name": "stdout",
          "text": [
            "Mounted at /content/drive\n",
            "Note: using Google CoLab\n"
          ]
        }
      ]
    },
    {
      "cell_type": "code",
      "source": [
        "path=\"/content/drive/My Drive/projects/Tuango_RFM.csv\""
      ],
      "metadata": {
        "id": "mq2lkkUrTJ-_"
      },
      "execution_count": 2,
      "outputs": []
    },
    {
      "cell_type": "code",
      "source": [
        "import pandas as pd\n",
        "\n",
        "data = pd.read_csv(path)\n",
        "data.head()"
      ],
      "metadata": {
        "colab": {
          "base_uri": "https://localhost:8080/",
          "height": 206
        },
        "id": "mbgQtMP-Tb6v",
        "outputId": "a2751fc7-fa1f-4abc-8cba-d44e3eb6bc3b"
      },
      "execution_count": 26,
      "outputs": [
        {
          "output_type": "execute_result",
          "data": {
            "text/html": [
              "\n",
              "  <div id=\"df-0c833850-c524-4b4b-af92-fb474d2d2df0\">\n",
              "    <div class=\"colab-df-container\">\n",
              "      <div>\n",
              "<style scoped>\n",
              "    .dataframe tbody tr th:only-of-type {\n",
              "        vertical-align: middle;\n",
              "    }\n",
              "\n",
              "    .dataframe tbody tr th {\n",
              "        vertical-align: top;\n",
              "    }\n",
              "\n",
              "    .dataframe thead th {\n",
              "        text-align: right;\n",
              "    }\n",
              "</style>\n",
              "<table border=\"1\" class=\"dataframe\">\n",
              "  <thead>\n",
              "    <tr style=\"text-align: right;\">\n",
              "      <th></th>\n",
              "      <th>userid</th>\n",
              "      <th>recency</th>\n",
              "      <th>frequency</th>\n",
              "      <th>monetary</th>\n",
              "      <th>rfm1</th>\n",
              "      <th>rfm2</th>\n",
              "      <th>buyer</th>\n",
              "      <th>ordersize</th>\n",
              "      <th>platform</th>\n",
              "      <th>category</th>\n",
              "      <th>mobile_os</th>\n",
              "    </tr>\n",
              "  </thead>\n",
              "  <tbody>\n",
              "    <tr>\n",
              "      <th>0</th>\n",
              "      <td>63775658</td>\n",
              "      <td>309</td>\n",
              "      <td>7</td>\n",
              "      <td>39.8</td>\n",
              "      <td>514</td>\n",
              "      <td>513</td>\n",
              "      <td>0</td>\n",
              "      <td>0</td>\n",
              "      <td>App</td>\n",
              "      <td>3</td>\n",
              "      <td>android</td>\n",
              "    </tr>\n",
              "    <tr>\n",
              "      <th>1</th>\n",
              "      <td>64880613</td>\n",
              "      <td>297</td>\n",
              "      <td>8</td>\n",
              "      <td>39.8</td>\n",
              "      <td>514</td>\n",
              "      <td>513</td>\n",
              "      <td>0</td>\n",
              "      <td>0</td>\n",
              "      <td>Browser</td>\n",
              "      <td>3</td>\n",
              "      <td>android</td>\n",
              "    </tr>\n",
              "    <tr>\n",
              "      <th>2</th>\n",
              "      <td>65051746</td>\n",
              "      <td>295</td>\n",
              "      <td>1</td>\n",
              "      <td>72.9</td>\n",
              "      <td>553</td>\n",
              "      <td>552</td>\n",
              "      <td>0</td>\n",
              "      <td>0</td>\n",
              "      <td>Browser</td>\n",
              "      <td>3</td>\n",
              "      <td>android</td>\n",
              "    </tr>\n",
              "    <tr>\n",
              "      <th>3</th>\n",
              "      <td>66689882</td>\n",
              "      <td>277</td>\n",
              "      <td>1</td>\n",
              "      <td>40.0</td>\n",
              "      <td>554</td>\n",
              "      <td>553</td>\n",
              "      <td>0</td>\n",
              "      <td>0</td>\n",
              "      <td>Browser</td>\n",
              "      <td>3</td>\n",
              "      <td>android</td>\n",
              "    </tr>\n",
              "    <tr>\n",
              "      <th>4</th>\n",
              "      <td>68839217</td>\n",
              "      <td>259</td>\n",
              "      <td>1</td>\n",
              "      <td>21.0</td>\n",
              "      <td>555</td>\n",
              "      <td>554</td>\n",
              "      <td>0</td>\n",
              "      <td>0</td>\n",
              "      <td>App</td>\n",
              "      <td>3</td>\n",
              "      <td>android</td>\n",
              "    </tr>\n",
              "  </tbody>\n",
              "</table>\n",
              "</div>\n",
              "      <button class=\"colab-df-convert\" onclick=\"convertToInteractive('df-0c833850-c524-4b4b-af92-fb474d2d2df0')\"\n",
              "              title=\"Convert this dataframe to an interactive table.\"\n",
              "              style=\"display:none;\">\n",
              "        \n",
              "  <svg xmlns=\"http://www.w3.org/2000/svg\" height=\"24px\"viewBox=\"0 0 24 24\"\n",
              "       width=\"24px\">\n",
              "    <path d=\"M0 0h24v24H0V0z\" fill=\"none\"/>\n",
              "    <path d=\"M18.56 5.44l.94 2.06.94-2.06 2.06-.94-2.06-.94-.94-2.06-.94 2.06-2.06.94zm-11 1L8.5 8.5l.94-2.06 2.06-.94-2.06-.94L8.5 2.5l-.94 2.06-2.06.94zm10 10l.94 2.06.94-2.06 2.06-.94-2.06-.94-.94-2.06-.94 2.06-2.06.94z\"/><path d=\"M17.41 7.96l-1.37-1.37c-.4-.4-.92-.59-1.43-.59-.52 0-1.04.2-1.43.59L10.3 9.45l-7.72 7.72c-.78.78-.78 2.05 0 2.83L4 21.41c.39.39.9.59 1.41.59.51 0 1.02-.2 1.41-.59l7.78-7.78 2.81-2.81c.8-.78.8-2.07 0-2.86zM5.41 20L4 18.59l7.72-7.72 1.47 1.35L5.41 20z\"/>\n",
              "  </svg>\n",
              "      </button>\n",
              "      \n",
              "  <style>\n",
              "    .colab-df-container {\n",
              "      display:flex;\n",
              "      flex-wrap:wrap;\n",
              "      gap: 12px;\n",
              "    }\n",
              "\n",
              "    .colab-df-convert {\n",
              "      background-color: #E8F0FE;\n",
              "      border: none;\n",
              "      border-radius: 50%;\n",
              "      cursor: pointer;\n",
              "      display: none;\n",
              "      fill: #1967D2;\n",
              "      height: 32px;\n",
              "      padding: 0 0 0 0;\n",
              "      width: 32px;\n",
              "    }\n",
              "\n",
              "    .colab-df-convert:hover {\n",
              "      background-color: #E2EBFA;\n",
              "      box-shadow: 0px 1px 2px rgba(60, 64, 67, 0.3), 0px 1px 3px 1px rgba(60, 64, 67, 0.15);\n",
              "      fill: #174EA6;\n",
              "    }\n",
              "\n",
              "    [theme=dark] .colab-df-convert {\n",
              "      background-color: #3B4455;\n",
              "      fill: #D2E3FC;\n",
              "    }\n",
              "\n",
              "    [theme=dark] .colab-df-convert:hover {\n",
              "      background-color: #434B5C;\n",
              "      box-shadow: 0px 1px 3px 1px rgba(0, 0, 0, 0.15);\n",
              "      filter: drop-shadow(0px 1px 2px rgba(0, 0, 0, 0.3));\n",
              "      fill: #FFFFFF;\n",
              "    }\n",
              "  </style>\n",
              "\n",
              "      <script>\n",
              "        const buttonEl =\n",
              "          document.querySelector('#df-0c833850-c524-4b4b-af92-fb474d2d2df0 button.colab-df-convert');\n",
              "        buttonEl.style.display =\n",
              "          google.colab.kernel.accessAllowed ? 'block' : 'none';\n",
              "\n",
              "        async function convertToInteractive(key) {\n",
              "          const element = document.querySelector('#df-0c833850-c524-4b4b-af92-fb474d2d2df0');\n",
              "          const dataTable =\n",
              "            await google.colab.kernel.invokeFunction('convertToInteractive',\n",
              "                                                     [key], {});\n",
              "          if (!dataTable) return;\n",
              "\n",
              "          const docLinkHtml = 'Like what you see? Visit the ' +\n",
              "            '<a target=\"_blank\" href=https://colab.research.google.com/notebooks/data_table.ipynb>data table notebook</a>'\n",
              "            + ' to learn more about interactive tables.';\n",
              "          element.innerHTML = '';\n",
              "          dataTable['output_type'] = 'display_data';\n",
              "          await google.colab.output.renderOutput(dataTable, element);\n",
              "          const docLink = document.createElement('div');\n",
              "          docLink.innerHTML = docLinkHtml;\n",
              "          element.appendChild(docLink);\n",
              "        }\n",
              "      </script>\n",
              "    </div>\n",
              "  </div>\n",
              "  "
            ],
            "text/plain": [
              "     userid  recency  frequency  ...  platform  category  mobile_os\n",
              "0  63775658      309          7  ...       App         3    android\n",
              "1  64880613      297          8  ...   Browser         3    android\n",
              "2  65051746      295          1  ...   Browser         3    android\n",
              "3  66689882      277          1  ...   Browser         3    android\n",
              "4  68839217      259          1  ...       App         3    android\n",
              "\n",
              "[5 rows x 11 columns]"
            ]
          },
          "metadata": {},
          "execution_count": 26
        }
      ]
    },
    {
      "cell_type": "code",
      "source": [
        "ct = data.groupby(\"buyer\").agg({\"buyer\":\"count\"})\n",
        "ct[\"percentage\"] = ct[\"buyer\"] / ct[\"buyer\"].sum()\n",
        "ct"
      ],
      "metadata": {
        "colab": {
          "base_uri": "https://localhost:8080/",
          "height": 143
        },
        "id": "GrcbxLBcVj5n",
        "outputId": "83d744a3-e8ff-49df-b26f-956c24474bab"
      },
      "execution_count": 4,
      "outputs": [
        {
          "output_type": "execute_result",
          "data": {
            "text/html": [
              "\n",
              "  <div id=\"df-52516607-e887-4ece-a0ae-9823af4474bc\">\n",
              "    <div class=\"colab-df-container\">\n",
              "      <div>\n",
              "<style scoped>\n",
              "    .dataframe tbody tr th:only-of-type {\n",
              "        vertical-align: middle;\n",
              "    }\n",
              "\n",
              "    .dataframe tbody tr th {\n",
              "        vertical-align: top;\n",
              "    }\n",
              "\n",
              "    .dataframe thead th {\n",
              "        text-align: right;\n",
              "    }\n",
              "</style>\n",
              "<table border=\"1\" class=\"dataframe\">\n",
              "  <thead>\n",
              "    <tr style=\"text-align: right;\">\n",
              "      <th></th>\n",
              "      <th>buyer</th>\n",
              "      <th>percentage</th>\n",
              "    </tr>\n",
              "    <tr>\n",
              "      <th>buyer</th>\n",
              "      <th></th>\n",
              "      <th></th>\n",
              "    </tr>\n",
              "  </thead>\n",
              "  <tbody>\n",
              "    <tr>\n",
              "      <th>0</th>\n",
              "      <td>13507</td>\n",
              "      <td>0.969008</td>\n",
              "    </tr>\n",
              "    <tr>\n",
              "      <th>1</th>\n",
              "      <td>432</td>\n",
              "      <td>0.030992</td>\n",
              "    </tr>\n",
              "  </tbody>\n",
              "</table>\n",
              "</div>\n",
              "      <button class=\"colab-df-convert\" onclick=\"convertToInteractive('df-52516607-e887-4ece-a0ae-9823af4474bc')\"\n",
              "              title=\"Convert this dataframe to an interactive table.\"\n",
              "              style=\"display:none;\">\n",
              "        \n",
              "  <svg xmlns=\"http://www.w3.org/2000/svg\" height=\"24px\"viewBox=\"0 0 24 24\"\n",
              "       width=\"24px\">\n",
              "    <path d=\"M0 0h24v24H0V0z\" fill=\"none\"/>\n",
              "    <path d=\"M18.56 5.44l.94 2.06.94-2.06 2.06-.94-2.06-.94-.94-2.06-.94 2.06-2.06.94zm-11 1L8.5 8.5l.94-2.06 2.06-.94-2.06-.94L8.5 2.5l-.94 2.06-2.06.94zm10 10l.94 2.06.94-2.06 2.06-.94-2.06-.94-.94-2.06-.94 2.06-2.06.94z\"/><path d=\"M17.41 7.96l-1.37-1.37c-.4-.4-.92-.59-1.43-.59-.52 0-1.04.2-1.43.59L10.3 9.45l-7.72 7.72c-.78.78-.78 2.05 0 2.83L4 21.41c.39.39.9.59 1.41.59.51 0 1.02-.2 1.41-.59l7.78-7.78 2.81-2.81c.8-.78.8-2.07 0-2.86zM5.41 20L4 18.59l7.72-7.72 1.47 1.35L5.41 20z\"/>\n",
              "  </svg>\n",
              "      </button>\n",
              "      \n",
              "  <style>\n",
              "    .colab-df-container {\n",
              "      display:flex;\n",
              "      flex-wrap:wrap;\n",
              "      gap: 12px;\n",
              "    }\n",
              "\n",
              "    .colab-df-convert {\n",
              "      background-color: #E8F0FE;\n",
              "      border: none;\n",
              "      border-radius: 50%;\n",
              "      cursor: pointer;\n",
              "      display: none;\n",
              "      fill: #1967D2;\n",
              "      height: 32px;\n",
              "      padding: 0 0 0 0;\n",
              "      width: 32px;\n",
              "    }\n",
              "\n",
              "    .colab-df-convert:hover {\n",
              "      background-color: #E2EBFA;\n",
              "      box-shadow: 0px 1px 2px rgba(60, 64, 67, 0.3), 0px 1px 3px 1px rgba(60, 64, 67, 0.15);\n",
              "      fill: #174EA6;\n",
              "    }\n",
              "\n",
              "    [theme=dark] .colab-df-convert {\n",
              "      background-color: #3B4455;\n",
              "      fill: #D2E3FC;\n",
              "    }\n",
              "\n",
              "    [theme=dark] .colab-df-convert:hover {\n",
              "      background-color: #434B5C;\n",
              "      box-shadow: 0px 1px 3px 1px rgba(0, 0, 0, 0.15);\n",
              "      filter: drop-shadow(0px 1px 2px rgba(0, 0, 0, 0.3));\n",
              "      fill: #FFFFFF;\n",
              "    }\n",
              "  </style>\n",
              "\n",
              "      <script>\n",
              "        const buttonEl =\n",
              "          document.querySelector('#df-52516607-e887-4ece-a0ae-9823af4474bc button.colab-df-convert');\n",
              "        buttonEl.style.display =\n",
              "          google.colab.kernel.accessAllowed ? 'block' : 'none';\n",
              "\n",
              "        async function convertToInteractive(key) {\n",
              "          const element = document.querySelector('#df-52516607-e887-4ece-a0ae-9823af4474bc');\n",
              "          const dataTable =\n",
              "            await google.colab.kernel.invokeFunction('convertToInteractive',\n",
              "                                                     [key], {});\n",
              "          if (!dataTable) return;\n",
              "\n",
              "          const docLinkHtml = 'Like what you see? Visit the ' +\n",
              "            '<a target=\"_blank\" href=https://colab.research.google.com/notebooks/data_table.ipynb>data table notebook</a>'\n",
              "            + ' to learn more about interactive tables.';\n",
              "          element.innerHTML = '';\n",
              "          dataTable['output_type'] = 'display_data';\n",
              "          await google.colab.output.renderOutput(dataTable, element);\n",
              "          const docLink = document.createElement('div');\n",
              "          docLink.innerHTML = docLinkHtml;\n",
              "          element.appendChild(docLink);\n",
              "        }\n",
              "      </script>\n",
              "    </div>\n",
              "  </div>\n",
              "  "
            ],
            "text/plain": [
              "       buyer  percentage\n",
              "buyer                   \n",
              "0      13507    0.969008\n",
              "1        432    0.030992"
            ]
          },
          "metadata": {},
          "execution_count": 4
        }
      ]
    },
    {
      "cell_type": "code",
      "source": [
        "import numpy as np\n",
        "data[data.buyer==1][\"ordersize\"].mean()"
      ],
      "metadata": {
        "colab": {
          "base_uri": "https://localhost:8080/"
        },
        "id": "ixS4I6MiYpbQ",
        "outputId": "505e3427-a75e-477d-acd6-cc2c40ada8be"
      },
      "execution_count": 5,
      "outputs": [
        {
          "output_type": "execute_result",
          "data": {
            "text/plain": [
              "202.3564814814815"
            ]
          },
          "metadata": {},
          "execution_count": 5
        }
      ]
    },
    {
      "cell_type": "code",
      "source": [
        "quintilesTable = data[[\"recency\",\"frequency\",\"monetary\"]].quantile(q=[0.2,0.4,0.6,0.8])\n",
        "print(quintilesTable,type(quintilesTable))"
      ],
      "metadata": {
        "colab": {
          "base_uri": "https://localhost:8080/"
        },
        "id": "PUtHIqwMZD1Q",
        "outputId": "addfacc2-82af-43c0-b34f-91a093b24fca"
      },
      "execution_count": 27,
      "outputs": [
        {
          "output_type": "stream",
          "name": "stdout",
          "text": [
            "     recency  frequency  monetary\n",
            "0.2     10.0        1.0      19.6\n",
            "0.4     15.0        1.0      36.0\n",
            "0.6     31.0        2.0      63.6\n",
            "0.8     77.0        4.0     109.0 <class 'pandas.core.frame.DataFrame'>\n"
          ]
        }
      ]
    },
    {
      "cell_type": "code",
      "source": [
        "data[\"rec_quin\"] = data[\"recency\"].apply(\n",
        "    lambda x: 1 if x<= quintilesTable[\"recency\"][0.2] \n",
        "    else (2 if x<= quintilesTable[\"recency\"][0.4] \n",
        "          else (3 if x <= quintilesTable[\"recency\"][0.6] else (4 if x <= quintilesTable[\"recency\"][0.8] else 5))))\n",
        "\n",
        "data.head()"
      ],
      "metadata": {
        "colab": {
          "base_uri": "https://localhost:8080/",
          "height": 206
        },
        "id": "1WFhfLwyZ-xD",
        "outputId": "27603da3-4115-496d-9133-4e63e421549a"
      },
      "execution_count": 28,
      "outputs": [
        {
          "output_type": "execute_result",
          "data": {
            "text/html": [
              "\n",
              "  <div id=\"df-15425558-b3e0-403b-9add-c969f7ebf344\">\n",
              "    <div class=\"colab-df-container\">\n",
              "      <div>\n",
              "<style scoped>\n",
              "    .dataframe tbody tr th:only-of-type {\n",
              "        vertical-align: middle;\n",
              "    }\n",
              "\n",
              "    .dataframe tbody tr th {\n",
              "        vertical-align: top;\n",
              "    }\n",
              "\n",
              "    .dataframe thead th {\n",
              "        text-align: right;\n",
              "    }\n",
              "</style>\n",
              "<table border=\"1\" class=\"dataframe\">\n",
              "  <thead>\n",
              "    <tr style=\"text-align: right;\">\n",
              "      <th></th>\n",
              "      <th>userid</th>\n",
              "      <th>recency</th>\n",
              "      <th>frequency</th>\n",
              "      <th>monetary</th>\n",
              "      <th>rfm1</th>\n",
              "      <th>rfm2</th>\n",
              "      <th>buyer</th>\n",
              "      <th>ordersize</th>\n",
              "      <th>platform</th>\n",
              "      <th>category</th>\n",
              "      <th>mobile_os</th>\n",
              "      <th>rec_quin</th>\n",
              "    </tr>\n",
              "  </thead>\n",
              "  <tbody>\n",
              "    <tr>\n",
              "      <th>0</th>\n",
              "      <td>63775658</td>\n",
              "      <td>309</td>\n",
              "      <td>7</td>\n",
              "      <td>39.8</td>\n",
              "      <td>514</td>\n",
              "      <td>513</td>\n",
              "      <td>0</td>\n",
              "      <td>0</td>\n",
              "      <td>App</td>\n",
              "      <td>3</td>\n",
              "      <td>android</td>\n",
              "      <td>5</td>\n",
              "    </tr>\n",
              "    <tr>\n",
              "      <th>1</th>\n",
              "      <td>64880613</td>\n",
              "      <td>297</td>\n",
              "      <td>8</td>\n",
              "      <td>39.8</td>\n",
              "      <td>514</td>\n",
              "      <td>513</td>\n",
              "      <td>0</td>\n",
              "      <td>0</td>\n",
              "      <td>Browser</td>\n",
              "      <td>3</td>\n",
              "      <td>android</td>\n",
              "      <td>5</td>\n",
              "    </tr>\n",
              "    <tr>\n",
              "      <th>2</th>\n",
              "      <td>65051746</td>\n",
              "      <td>295</td>\n",
              "      <td>1</td>\n",
              "      <td>72.9</td>\n",
              "      <td>553</td>\n",
              "      <td>552</td>\n",
              "      <td>0</td>\n",
              "      <td>0</td>\n",
              "      <td>Browser</td>\n",
              "      <td>3</td>\n",
              "      <td>android</td>\n",
              "      <td>5</td>\n",
              "    </tr>\n",
              "    <tr>\n",
              "      <th>3</th>\n",
              "      <td>66689882</td>\n",
              "      <td>277</td>\n",
              "      <td>1</td>\n",
              "      <td>40.0</td>\n",
              "      <td>554</td>\n",
              "      <td>553</td>\n",
              "      <td>0</td>\n",
              "      <td>0</td>\n",
              "      <td>Browser</td>\n",
              "      <td>3</td>\n",
              "      <td>android</td>\n",
              "      <td>5</td>\n",
              "    </tr>\n",
              "    <tr>\n",
              "      <th>4</th>\n",
              "      <td>68839217</td>\n",
              "      <td>259</td>\n",
              "      <td>1</td>\n",
              "      <td>21.0</td>\n",
              "      <td>555</td>\n",
              "      <td>554</td>\n",
              "      <td>0</td>\n",
              "      <td>0</td>\n",
              "      <td>App</td>\n",
              "      <td>3</td>\n",
              "      <td>android</td>\n",
              "      <td>5</td>\n",
              "    </tr>\n",
              "  </tbody>\n",
              "</table>\n",
              "</div>\n",
              "      <button class=\"colab-df-convert\" onclick=\"convertToInteractive('df-15425558-b3e0-403b-9add-c969f7ebf344')\"\n",
              "              title=\"Convert this dataframe to an interactive table.\"\n",
              "              style=\"display:none;\">\n",
              "        \n",
              "  <svg xmlns=\"http://www.w3.org/2000/svg\" height=\"24px\"viewBox=\"0 0 24 24\"\n",
              "       width=\"24px\">\n",
              "    <path d=\"M0 0h24v24H0V0z\" fill=\"none\"/>\n",
              "    <path d=\"M18.56 5.44l.94 2.06.94-2.06 2.06-.94-2.06-.94-.94-2.06-.94 2.06-2.06.94zm-11 1L8.5 8.5l.94-2.06 2.06-.94-2.06-.94L8.5 2.5l-.94 2.06-2.06.94zm10 10l.94 2.06.94-2.06 2.06-.94-2.06-.94-.94-2.06-.94 2.06-2.06.94z\"/><path d=\"M17.41 7.96l-1.37-1.37c-.4-.4-.92-.59-1.43-.59-.52 0-1.04.2-1.43.59L10.3 9.45l-7.72 7.72c-.78.78-.78 2.05 0 2.83L4 21.41c.39.39.9.59 1.41.59.51 0 1.02-.2 1.41-.59l7.78-7.78 2.81-2.81c.8-.78.8-2.07 0-2.86zM5.41 20L4 18.59l7.72-7.72 1.47 1.35L5.41 20z\"/>\n",
              "  </svg>\n",
              "      </button>\n",
              "      \n",
              "  <style>\n",
              "    .colab-df-container {\n",
              "      display:flex;\n",
              "      flex-wrap:wrap;\n",
              "      gap: 12px;\n",
              "    }\n",
              "\n",
              "    .colab-df-convert {\n",
              "      background-color: #E8F0FE;\n",
              "      border: none;\n",
              "      border-radius: 50%;\n",
              "      cursor: pointer;\n",
              "      display: none;\n",
              "      fill: #1967D2;\n",
              "      height: 32px;\n",
              "      padding: 0 0 0 0;\n",
              "      width: 32px;\n",
              "    }\n",
              "\n",
              "    .colab-df-convert:hover {\n",
              "      background-color: #E2EBFA;\n",
              "      box-shadow: 0px 1px 2px rgba(60, 64, 67, 0.3), 0px 1px 3px 1px rgba(60, 64, 67, 0.15);\n",
              "      fill: #174EA6;\n",
              "    }\n",
              "\n",
              "    [theme=dark] .colab-df-convert {\n",
              "      background-color: #3B4455;\n",
              "      fill: #D2E3FC;\n",
              "    }\n",
              "\n",
              "    [theme=dark] .colab-df-convert:hover {\n",
              "      background-color: #434B5C;\n",
              "      box-shadow: 0px 1px 3px 1px rgba(0, 0, 0, 0.15);\n",
              "      filter: drop-shadow(0px 1px 2px rgba(0, 0, 0, 0.3));\n",
              "      fill: #FFFFFF;\n",
              "    }\n",
              "  </style>\n",
              "\n",
              "      <script>\n",
              "        const buttonEl =\n",
              "          document.querySelector('#df-15425558-b3e0-403b-9add-c969f7ebf344 button.colab-df-convert');\n",
              "        buttonEl.style.display =\n",
              "          google.colab.kernel.accessAllowed ? 'block' : 'none';\n",
              "\n",
              "        async function convertToInteractive(key) {\n",
              "          const element = document.querySelector('#df-15425558-b3e0-403b-9add-c969f7ebf344');\n",
              "          const dataTable =\n",
              "            await google.colab.kernel.invokeFunction('convertToInteractive',\n",
              "                                                     [key], {});\n",
              "          if (!dataTable) return;\n",
              "\n",
              "          const docLinkHtml = 'Like what you see? Visit the ' +\n",
              "            '<a target=\"_blank\" href=https://colab.research.google.com/notebooks/data_table.ipynb>data table notebook</a>'\n",
              "            + ' to learn more about interactive tables.';\n",
              "          element.innerHTML = '';\n",
              "          dataTable['output_type'] = 'display_data';\n",
              "          await google.colab.output.renderOutput(dataTable, element);\n",
              "          const docLink = document.createElement('div');\n",
              "          docLink.innerHTML = docLinkHtml;\n",
              "          element.appendChild(docLink);\n",
              "        }\n",
              "      </script>\n",
              "    </div>\n",
              "  </div>\n",
              "  "
            ],
            "text/plain": [
              "     userid  recency  frequency  ...  category  mobile_os  rec_quin\n",
              "0  63775658      309          7  ...         3    android         5\n",
              "1  64880613      297          8  ...         3    android         5\n",
              "2  65051746      295          1  ...         3    android         5\n",
              "3  66689882      277          1  ...         3    android         5\n",
              "4  68839217      259          1  ...         3    android         5\n",
              "\n",
              "[5 rows x 12 columns]"
            ]
          },
          "metadata": {},
          "execution_count": 28
        }
      ]
    },
    {
      "cell_type": "code",
      "source": [
        "avg_resp_rate_rec = data.groupby(\"rec_quin\").agg({\"buyer\":\"mean\"}).reset_index()\n",
        "avg_resp_rate_rec.rename(columns={\"buyer\":\"avg_resp_rate\"},inplace=True)\n",
        "avg_resp_rate_rec.set_index(\"rec_quin\",inplace=True, drop=True)\n",
        "avg_resp_rate_rec"
      ],
      "metadata": {
        "colab": {
          "base_uri": "https://localhost:8080/",
          "height": 237
        },
        "id": "QGASaOf3L8Y7",
        "outputId": "39179bfd-3437-4e5d-fae0-c6ec81043760"
      },
      "execution_count": 29,
      "outputs": [
        {
          "output_type": "execute_result",
          "data": {
            "text/html": [
              "\n",
              "  <div id=\"df-0b3b80b9-1688-45ce-971d-300a9ed8aa8c\">\n",
              "    <div class=\"colab-df-container\">\n",
              "      <div>\n",
              "<style scoped>\n",
              "    .dataframe tbody tr th:only-of-type {\n",
              "        vertical-align: middle;\n",
              "    }\n",
              "\n",
              "    .dataframe tbody tr th {\n",
              "        vertical-align: top;\n",
              "    }\n",
              "\n",
              "    .dataframe thead th {\n",
              "        text-align: right;\n",
              "    }\n",
              "</style>\n",
              "<table border=\"1\" class=\"dataframe\">\n",
              "  <thead>\n",
              "    <tr style=\"text-align: right;\">\n",
              "      <th></th>\n",
              "      <th>avg_resp_rate</th>\n",
              "    </tr>\n",
              "    <tr>\n",
              "      <th>rec_quin</th>\n",
              "      <th></th>\n",
              "    </tr>\n",
              "  </thead>\n",
              "  <tbody>\n",
              "    <tr>\n",
              "      <th>1</th>\n",
              "      <td>0.060307</td>\n",
              "    </tr>\n",
              "    <tr>\n",
              "      <th>2</th>\n",
              "      <td>0.034165</td>\n",
              "    </tr>\n",
              "    <tr>\n",
              "      <th>3</th>\n",
              "      <td>0.024105</td>\n",
              "    </tr>\n",
              "    <tr>\n",
              "      <th>4</th>\n",
              "      <td>0.017595</td>\n",
              "    </tr>\n",
              "    <tr>\n",
              "      <th>5</th>\n",
              "      <td>0.008267</td>\n",
              "    </tr>\n",
              "  </tbody>\n",
              "</table>\n",
              "</div>\n",
              "      <button class=\"colab-df-convert\" onclick=\"convertToInteractive('df-0b3b80b9-1688-45ce-971d-300a9ed8aa8c')\"\n",
              "              title=\"Convert this dataframe to an interactive table.\"\n",
              "              style=\"display:none;\">\n",
              "        \n",
              "  <svg xmlns=\"http://www.w3.org/2000/svg\" height=\"24px\"viewBox=\"0 0 24 24\"\n",
              "       width=\"24px\">\n",
              "    <path d=\"M0 0h24v24H0V0z\" fill=\"none\"/>\n",
              "    <path d=\"M18.56 5.44l.94 2.06.94-2.06 2.06-.94-2.06-.94-.94-2.06-.94 2.06-2.06.94zm-11 1L8.5 8.5l.94-2.06 2.06-.94-2.06-.94L8.5 2.5l-.94 2.06-2.06.94zm10 10l.94 2.06.94-2.06 2.06-.94-2.06-.94-.94-2.06-.94 2.06-2.06.94z\"/><path d=\"M17.41 7.96l-1.37-1.37c-.4-.4-.92-.59-1.43-.59-.52 0-1.04.2-1.43.59L10.3 9.45l-7.72 7.72c-.78.78-.78 2.05 0 2.83L4 21.41c.39.39.9.59 1.41.59.51 0 1.02-.2 1.41-.59l7.78-7.78 2.81-2.81c.8-.78.8-2.07 0-2.86zM5.41 20L4 18.59l7.72-7.72 1.47 1.35L5.41 20z\"/>\n",
              "  </svg>\n",
              "      </button>\n",
              "      \n",
              "  <style>\n",
              "    .colab-df-container {\n",
              "      display:flex;\n",
              "      flex-wrap:wrap;\n",
              "      gap: 12px;\n",
              "    }\n",
              "\n",
              "    .colab-df-convert {\n",
              "      background-color: #E8F0FE;\n",
              "      border: none;\n",
              "      border-radius: 50%;\n",
              "      cursor: pointer;\n",
              "      display: none;\n",
              "      fill: #1967D2;\n",
              "      height: 32px;\n",
              "      padding: 0 0 0 0;\n",
              "      width: 32px;\n",
              "    }\n",
              "\n",
              "    .colab-df-convert:hover {\n",
              "      background-color: #E2EBFA;\n",
              "      box-shadow: 0px 1px 2px rgba(60, 64, 67, 0.3), 0px 1px 3px 1px rgba(60, 64, 67, 0.15);\n",
              "      fill: #174EA6;\n",
              "    }\n",
              "\n",
              "    [theme=dark] .colab-df-convert {\n",
              "      background-color: #3B4455;\n",
              "      fill: #D2E3FC;\n",
              "    }\n",
              "\n",
              "    [theme=dark] .colab-df-convert:hover {\n",
              "      background-color: #434B5C;\n",
              "      box-shadow: 0px 1px 3px 1px rgba(0, 0, 0, 0.15);\n",
              "      filter: drop-shadow(0px 1px 2px rgba(0, 0, 0, 0.3));\n",
              "      fill: #FFFFFF;\n",
              "    }\n",
              "  </style>\n",
              "\n",
              "      <script>\n",
              "        const buttonEl =\n",
              "          document.querySelector('#df-0b3b80b9-1688-45ce-971d-300a9ed8aa8c button.colab-df-convert');\n",
              "        buttonEl.style.display =\n",
              "          google.colab.kernel.accessAllowed ? 'block' : 'none';\n",
              "\n",
              "        async function convertToInteractive(key) {\n",
              "          const element = document.querySelector('#df-0b3b80b9-1688-45ce-971d-300a9ed8aa8c');\n",
              "          const dataTable =\n",
              "            await google.colab.kernel.invokeFunction('convertToInteractive',\n",
              "                                                     [key], {});\n",
              "          if (!dataTable) return;\n",
              "\n",
              "          const docLinkHtml = 'Like what you see? Visit the ' +\n",
              "            '<a target=\"_blank\" href=https://colab.research.google.com/notebooks/data_table.ipynb>data table notebook</a>'\n",
              "            + ' to learn more about interactive tables.';\n",
              "          element.innerHTML = '';\n",
              "          dataTable['output_type'] = 'display_data';\n",
              "          await google.colab.output.renderOutput(dataTable, element);\n",
              "          const docLink = document.createElement('div');\n",
              "          docLink.innerHTML = docLinkHtml;\n",
              "          element.appendChild(docLink);\n",
              "        }\n",
              "      </script>\n",
              "    </div>\n",
              "  </div>\n",
              "  "
            ],
            "text/plain": [
              "          avg_resp_rate\n",
              "rec_quin               \n",
              "1              0.060307\n",
              "2              0.034165\n",
              "3              0.024105\n",
              "4              0.017595\n",
              "5              0.008267"
            ]
          },
          "metadata": {},
          "execution_count": 29
        }
      ]
    },
    {
      "cell_type": "code",
      "source": [
        "avg_resp_rate_rec.plot.bar()"
      ],
      "metadata": {
        "colab": {
          "base_uri": "https://localhost:8080/",
          "height": 294
        },
        "id": "lRaz3MO7NT6-",
        "outputId": "8f32d185-bb3d-43c8-8c23-b3c749ad7e43"
      },
      "execution_count": 30,
      "outputs": [
        {
          "output_type": "execute_result",
          "data": {
            "text/plain": [
              "<matplotlib.axes._subplots.AxesSubplot at 0x7fdbe5ac9c90>"
            ]
          },
          "metadata": {},
          "execution_count": 30
        },
        {
          "output_type": "display_data",
          "data": {
            "image/png": "[encoded data removed]",
            "text/plain": [
              "<Figure size 432x288 with 1 Axes>"
            ]
          },
          "metadata": {
            "needs_background": "light"
          }
        }
      ]
    },
    {
      "cell_type": "code",
      "source": [
        "tuangoBuyer = data[data[\"buyer\"]==1]\n",
        "avg_order_rate_rec = tuangoBuyer.groupby(\"rec_quin\").agg({\"ordersize\":\"mean\"})\n",
        "avg_order_rate_rec.rename(columns={\"buyer\":\"avg_spending_rate\"},inplace=True)\n",
        "avg_order_rate_rec = avg_order_rate_rec.reindex([1,2,3, 4,5],fill_value=0)\n",
        "avg_order_rate_rec.plot.bar()"
      ],
      "metadata": {
        "colab": {
          "base_uri": "https://localhost:8080/",
          "height": 294
        },
        "id": "5QknZAu0U3Ci",
        "outputId": "6aa79052-16b9-45ab-c920-67180006c9b6"
      },
      "execution_count": 54,
      "outputs": [
        {
          "output_type": "execute_result",
          "data": {
            "text/plain": [
              "<matplotlib.axes._subplots.AxesSubplot at 0x7fdbe53b8c10>"
            ]
          },
          "metadata": {},
          "execution_count": 54
        },
        {
          "output_type": "display_data",
          "data": {
            "image/png": "[encoded data removed]",
            "text/plain": [
              "<Figure size 432x288 with 1 Axes>"
            ]
          },
          "metadata": {
            "needs_background": "light"
          }
        }
      ]
    },
    {
      "cell_type": "code",
      "source": [
        "data[\"freq_quin\"] = data[\"frequency\"].apply(\n",
        "    lambda x: 5 if x<=quintilesTable[\"frequency\"][0.2] \n",
        "    else (4 if x<=quintilesTable[\"frequency\"][0.4] \n",
        "          else (3 if x <= quintilesTable[\"frequency\"][0.6] else (2 if x <= quintilesTable[\"frequency\"][0.8] else 1))))\n",
        "\n",
        "data.head()"
      ],
      "metadata": {
        "colab": {
          "base_uri": "https://localhost:8080/",
          "height": 206
        },
        "id": "KlGPwkChKo5n",
        "outputId": "70f646c0-1c4a-497f-8a1b-c86f208f22dc"
      },
      "execution_count": 35,
      "outputs": [
        {
          "output_type": "execute_result",
          "data": {
            "text/html": [
              "\n",
              "  <div id=\"df-7cc9a366-8dd6-4a05-9df8-5ba1b89a4224\">\n",
              "    <div class=\"colab-df-container\">\n",
              "      <div>\n",
              "<style scoped>\n",
              "    .dataframe tbody tr th:only-of-type {\n",
              "        vertical-align: middle;\n",
              "    }\n",
              "\n",
              "    .dataframe tbody tr th {\n",
              "        vertical-align: top;\n",
              "    }\n",
              "\n",
              "    .dataframe thead th {\n",
              "        text-align: right;\n",
              "    }\n",
              "</style>\n",
              "<table border=\"1\" class=\"dataframe\">\n",
              "  <thead>\n",
              "    <tr style=\"text-align: right;\">\n",
              "      <th></th>\n",
              "      <th>userid</th>\n",
              "      <th>recency</th>\n",
              "      <th>frequency</th>\n",
              "      <th>monetary</th>\n",
              "      <th>rfm1</th>\n",
              "      <th>rfm2</th>\n",
              "      <th>buyer</th>\n",
              "      <th>ordersize</th>\n",
              "      <th>platform</th>\n",
              "      <th>category</th>\n",
              "      <th>mobile_os</th>\n",
              "      <th>rec_quin</th>\n",
              "      <th>freq_quin</th>\n",
              "    </tr>\n",
              "  </thead>\n",
              "  <tbody>\n",
              "    <tr>\n",
              "      <th>0</th>\n",
              "      <td>63775658</td>\n",
              "      <td>309</td>\n",
              "      <td>7</td>\n",
              "      <td>39.8</td>\n",
              "      <td>514</td>\n",
              "      <td>513</td>\n",
              "      <td>0</td>\n",
              "      <td>0</td>\n",
              "      <td>App</td>\n",
              "      <td>3</td>\n",
              "      <td>android</td>\n",
              "      <td>5</td>\n",
              "      <td>1</td>\n",
              "    </tr>\n",
              "    <tr>\n",
              "      <th>1</th>\n",
              "      <td>64880613</td>\n",
              "      <td>297</td>\n",
              "      <td>8</td>\n",
              "      <td>39.8</td>\n",
              "      <td>514</td>\n",
              "      <td>513</td>\n",
              "      <td>0</td>\n",
              "      <td>0</td>\n",
              "      <td>Browser</td>\n",
              "      <td>3</td>\n",
              "      <td>android</td>\n",
              "      <td>5</td>\n",
              "      <td>1</td>\n",
              "    </tr>\n",
              "    <tr>\n",
              "      <th>2</th>\n",
              "      <td>65051746</td>\n",
              "      <td>295</td>\n",
              "      <td>1</td>\n",
              "      <td>72.9</td>\n",
              "      <td>553</td>\n",
              "      <td>552</td>\n",
              "      <td>0</td>\n",
              "      <td>0</td>\n",
              "      <td>Browser</td>\n",
              "      <td>3</td>\n",
              "      <td>android</td>\n",
              "      <td>5</td>\n",
              "      <td>5</td>\n",
              "    </tr>\n",
              "    <tr>\n",
              "      <th>3</th>\n",
              "      <td>66689882</td>\n",
              "      <td>277</td>\n",
              "      <td>1</td>\n",
              "      <td>40.0</td>\n",
              "      <td>554</td>\n",
              "      <td>553</td>\n",
              "      <td>0</td>\n",
              "      <td>0</td>\n",
              "      <td>Browser</td>\n",
              "      <td>3</td>\n",
              "      <td>android</td>\n",
              "      <td>5</td>\n",
              "      <td>5</td>\n",
              "    </tr>\n",
              "    <tr>\n",
              "      <th>4</th>\n",
              "      <td>68839217</td>\n",
              "      <td>259</td>\n",
              "      <td>1</td>\n",
              "      <td>21.0</td>\n",
              "      <td>555</td>\n",
              "      <td>554</td>\n",
              "      <td>0</td>\n",
              "      <td>0</td>\n",
              "      <td>App</td>\n",
              "      <td>3</td>\n",
              "      <td>android</td>\n",
              "      <td>5</td>\n",
              "      <td>5</td>\n",
              "    </tr>\n",
              "  </tbody>\n",
              "</table>\n",
              "</div>\n",
              "      <button class=\"colab-df-convert\" onclick=\"convertToInteractive('df-7cc9a366-8dd6-4a05-9df8-5ba1b89a4224')\"\n",
              "              title=\"Convert this dataframe to an interactive table.\"\n",
              "              style=\"display:none;\">\n",
              "        \n",
              "  <svg xmlns=\"http://www.w3.org/2000/svg\" height=\"24px\"viewBox=\"0 0 24 24\"\n",
              "       width=\"24px\">\n",
              "    <path d=\"M0 0h24v24H0V0z\" fill=\"none\"/>\n",
              "    <path d=\"M18.56 5.44l.94 2.06.94-2.06 2.06-.94-2.06-.94-.94-2.06-.94 2.06-2.06.94zm-11 1L8.5 8.5l.94-2.06 2.06-.94-2.06-.94L8.5 2.5l-.94 2.06-2.06.94zm10 10l.94 2.06.94-2.06 2.06-.94-2.06-.94-.94-2.06-.94 2.06-2.06.94z\"/><path d=\"M17.41 7.96l-1.37-1.37c-.4-.4-.92-.59-1.43-.59-.52 0-1.04.2-1.43.59L10.3 9.45l-7.72 7.72c-.78.78-.78 2.05 0 2.83L4 21.41c.39.39.9.59 1.41.59.51 0 1.02-.2 1.41-.59l7.78-7.78 2.81-2.81c.8-.78.8-2.07 0-2.86zM5.41 20L4 18.59l7.72-7.72 1.47 1.35L5.41 20z\"/>\n",
              "  </svg>\n",
              "      </button>\n",
              "      \n",
              "  <style>\n",
              "    .colab-df-container {\n",
              "      display:flex;\n",
              "      flex-wrap:wrap;\n",
              "      gap: 12px;\n",
              "    }\n",
              "\n",
              "    .colab-df-convert {\n",
              "      background-color: #E8F0FE;\n",
              "      border: none;\n",
              "      border-radius: 50%;\n",
              "      cursor: pointer;\n",
              "      display: none;\n",
              "      fill: #1967D2;\n",
              "      height: 32px;\n",
              "      padding: 0 0 0 0;\n",
              "      width: 32px;\n",
              "    }\n",
              "\n",
              "    .colab-df-convert:hover {\n",
              "      background-color: #E2EBFA;\n",
              "      box-shadow: 0px 1px 2px rgba(60, 64, 67, 0.3), 0px 1px 3px 1px rgba(60, 64, 67, 0.15);\n",
              "      fill: #174EA6;\n",
              "    }\n",
              "\n",
              "    [theme=dark] .colab-df-convert {\n",
              "      background-color: #3B4455;\n",
              "      fill: #D2E3FC;\n",
              "    }\n",
              "\n",
              "    [theme=dark] .colab-df-convert:hover {\n",
              "      background-color: #434B5C;\n",
              "      box-shadow: 0px 1px 3px 1px rgba(0, 0, 0, 0.15);\n",
              "      filter: drop-shadow(0px 1px 2px rgba(0, 0, 0, 0.3));\n",
              "      fill: #FFFFFF;\n",
              "    }\n",
              "  </style>\n",
              "\n",
              "      <script>\n",
              "        const buttonEl =\n",
              "          document.querySelector('#df-7cc9a366-8dd6-4a05-9df8-5ba1b89a4224 button.colab-df-convert');\n",
              "        buttonEl.style.display =\n",
              "          google.colab.kernel.accessAllowed ? 'block' : 'none';\n",
              "\n",
              "        async function convertToInteractive(key) {\n",
              "          const element = document.querySelector('#df-7cc9a366-8dd6-4a05-9df8-5ba1b89a4224');\n",
              "          const dataTable =\n",
              "            await google.colab.kernel.invokeFunction('convertToInteractive',\n",
              "                                                     [key], {});\n",
              "          if (!dataTable) return;\n",
              "\n",
              "          const docLinkHtml = 'Like what you see? Visit the ' +\n",
              "            '<a target=\"_blank\" href=https://colab.research.google.com/notebooks/data_table.ipynb>data table notebook</a>'\n",
              "            + ' to learn more about interactive tables.';\n",
              "          element.innerHTML = '';\n",
              "          dataTable['output_type'] = 'display_data';\n",
              "          await google.colab.output.renderOutput(dataTable, element);\n",
              "          const docLink = document.createElement('div');\n",
              "          docLink.innerHTML = docLinkHtml;\n",
              "          element.appendChild(docLink);\n",
              "        }\n",
              "      </script>\n",
              "    </div>\n",
              "  </div>\n",
              "  "
            ],
            "text/plain": [
              "     userid  recency  frequency  ...  mobile_os  rec_quin  freq_quin\n",
              "0  63775658      309          7  ...    android         5          1\n",
              "1  64880613      297          8  ...    android         5          1\n",
              "2  65051746      295          1  ...    android         5          5\n",
              "3  66689882      277          1  ...    android         5          5\n",
              "4  68839217      259          1  ...    android         5          5\n",
              "\n",
              "[5 rows x 13 columns]"
            ]
          },
          "metadata": {},
          "execution_count": 35
        }
      ]
    },
    {
      "cell_type": "code",
      "source": [
        "avg_resp_rate_freq = data.groupby(\"freq_quin\").agg({\"buyer\":\"mean\"})\n",
        "avg_resp_rate_freq.rename(columns={\"buyer\":\"avg_resp_rate\"},inplace=True)\n",
        "avg_resp_rate_freq = avg_resp_rate_freq.reindex([1,2,3, 4,5],fill_value=0)\n",
        "avg_resp_rate_freq.plot.bar()"
      ],
      "metadata": {
        "colab": {
          "base_uri": "https://localhost:8080/",
          "height": 297
        },
        "id": "NSLpAd3MNwhi",
        "outputId": "fa3156f2-6465-406b-b115-8ba483378a1d"
      },
      "execution_count": 43,
      "outputs": [
        {
          "output_type": "execute_result",
          "data": {
            "text/plain": [
              "<matplotlib.axes._subplots.AxesSubplot at 0x7fdbe5bbc150>"
            ]
          },
          "metadata": {},
          "execution_count": 43
        },
        {
          "output_type": "display_data",
          "data": {
            "image/png": "[encoded data removed]",
            "text/plain": [
              "<Figure size 432x288 with 1 Axes>"
            ]
          },
          "metadata": {
            "needs_background": "light"
          }
        }
      ]
    },
    {
      "cell_type": "code",
      "source": [
        "tuangoBuyer = data[data[\"buyer\"]==1]\n",
        "avg_order_rate_freq = tuangoBuyer.groupby(\"freq_quin\").agg({\"ordersize\":\"mean\"})\n",
        "avg_order_rate_freq.rename(columns={\"buyer\":\"avg_spending_rate\"},inplace=True)\n",
        "avg_order_rate_freq = avg_order_rate_freq.reindex([1,2,3, 4,5],fill_value=0)\n",
        "avg_order_rate_freq.plot.bar()"
      ],
      "metadata": {
        "colab": {
          "base_uri": "https://localhost:8080/",
          "height": 294
        },
        "id": "w3rUaBcLUBjg",
        "outputId": "3749d980-cf97-431c-d6de-7e8edcc8897f"
      },
      "execution_count": 53,
      "outputs": [
        {
          "output_type": "execute_result",
          "data": {
            "text/plain": [
              "<matplotlib.axes._subplots.AxesSubplot at 0x7fdbe5444d50>"
            ]
          },
          "metadata": {},
          "execution_count": 53
        },
        {
          "output_type": "display_data",
          "data": {
            "image/png": "[encoded data removed]",
            "text/plain": [
              "<Figure size 432x288 with 1 Axes>"
            ]
          },
          "metadata": {
            "needs_background": "light"
          }
        }
      ]
    },
    {
      "cell_type": "code",
      "source": [
        "data[\"mv_quin\"] = data[\"monetary\"].apply(\n",
        "    lambda x: 5 if x<= quintilesTable[\"monetary\"][0.2] \n",
        "    else (4 if x<= quintilesTable[\"monetary\"][0.4] \n",
        "          else (3 if x <= quintilesTable[\"monetary\"][0.6] else (2 if x <= quintilesTable[\"monetary\"][0.8] else 1))))\n",
        "\n",
        "data.head()"
      ],
      "metadata": {
        "colab": {
          "base_uri": "https://localhost:8080/",
          "height": 206
        },
        "id": "bOskNQIlK9vR",
        "outputId": "0488f237-217f-4909-915c-93a2dc12d271"
      },
      "execution_count": 51,
      "outputs": [
        {
          "output_type": "execute_result",
          "data": {
            "text/html": [
              "\n",
              "  <div id=\"df-efdb4de3-7118-473d-a41b-e4bc35d343e1\">\n",
              "    <div class=\"colab-df-container\">\n",
              "      <div>\n",
              "<style scoped>\n",
              "    .dataframe tbody tr th:only-of-type {\n",
              "        vertical-align: middle;\n",
              "    }\n",
              "\n",
              "    .dataframe tbody tr th {\n",
              "        vertical-align: top;\n",
              "    }\n",
              "\n",
              "    .dataframe thead th {\n",
              "        text-align: right;\n",
              "    }\n",
              "</style>\n",
              "<table border=\"1\" class=\"dataframe\">\n",
              "  <thead>\n",
              "    <tr style=\"text-align: right;\">\n",
              "      <th></th>\n",
              "      <th>userid</th>\n",
              "      <th>recency</th>\n",
              "      <th>frequency</th>\n",
              "      <th>monetary</th>\n",
              "      <th>rfm1</th>\n",
              "      <th>rfm2</th>\n",
              "      <th>buyer</th>\n",
              "      <th>ordersize</th>\n",
              "      <th>platform</th>\n",
              "      <th>category</th>\n",
              "      <th>mobile_os</th>\n",
              "      <th>rec_quin</th>\n",
              "      <th>freq_quin</th>\n",
              "      <th>mv_quin</th>\n",
              "    </tr>\n",
              "  </thead>\n",
              "  <tbody>\n",
              "    <tr>\n",
              "      <th>0</th>\n",
              "      <td>63775658</td>\n",
              "      <td>309</td>\n",
              "      <td>7</td>\n",
              "      <td>39.8</td>\n",
              "      <td>514</td>\n",
              "      <td>513</td>\n",
              "      <td>0</td>\n",
              "      <td>0</td>\n",
              "      <td>App</td>\n",
              "      <td>3</td>\n",
              "      <td>android</td>\n",
              "      <td>5</td>\n",
              "      <td>1</td>\n",
              "      <td>3</td>\n",
              "    </tr>\n",
              "    <tr>\n",
              "      <th>1</th>\n",
              "      <td>64880613</td>\n",
              "      <td>297</td>\n",
              "      <td>8</td>\n",
              "      <td>39.8</td>\n",
              "      <td>514</td>\n",
              "      <td>513</td>\n",
              "      <td>0</td>\n",
              "      <td>0</td>\n",
              "      <td>Browser</td>\n",
              "      <td>3</td>\n",
              "      <td>android</td>\n",
              "      <td>5</td>\n",
              "      <td>1</td>\n",
              "      <td>3</td>\n",
              "    </tr>\n",
              "    <tr>\n",
              "      <th>2</th>\n",
              "      <td>65051746</td>\n",
              "      <td>295</td>\n",
              "      <td>1</td>\n",
              "      <td>72.9</td>\n",
              "      <td>553</td>\n",
              "      <td>552</td>\n",
              "      <td>0</td>\n",
              "      <td>0</td>\n",
              "      <td>Browser</td>\n",
              "      <td>3</td>\n",
              "      <td>android</td>\n",
              "      <td>5</td>\n",
              "      <td>5</td>\n",
              "      <td>2</td>\n",
              "    </tr>\n",
              "    <tr>\n",
              "      <th>3</th>\n",
              "      <td>66689882</td>\n",
              "      <td>277</td>\n",
              "      <td>1</td>\n",
              "      <td>40.0</td>\n",
              "      <td>554</td>\n",
              "      <td>553</td>\n",
              "      <td>0</td>\n",
              "      <td>0</td>\n",
              "      <td>Browser</td>\n",
              "      <td>3</td>\n",
              "      <td>android</td>\n",
              "      <td>5</td>\n",
              "      <td>5</td>\n",
              "      <td>3</td>\n",
              "    </tr>\n",
              "    <tr>\n",
              "      <th>4</th>\n",
              "      <td>68839217</td>\n",
              "      <td>259</td>\n",
              "      <td>1</td>\n",
              "      <td>21.0</td>\n",
              "      <td>555</td>\n",
              "      <td>554</td>\n",
              "      <td>0</td>\n",
              "      <td>0</td>\n",
              "      <td>App</td>\n",
              "      <td>3</td>\n",
              "      <td>android</td>\n",
              "      <td>5</td>\n",
              "      <td>5</td>\n",
              "      <td>4</td>\n",
              "    </tr>\n",
              "  </tbody>\n",
              "</table>\n",
              "</div>\n",
              "      <button class=\"colab-df-convert\" onclick=\"convertToInteractive('df-efdb4de3-7118-473d-a41b-e4bc35d343e1')\"\n",
              "              title=\"Convert this dataframe to an interactive table.\"\n",
              "              style=\"display:none;\">\n",
              "        \n",
              "  <svg xmlns=\"http://www.w3.org/2000/svg\" height=\"24px\"viewBox=\"0 0 24 24\"\n",
              "       width=\"24px\">\n",
              "    <path d=\"M0 0h24v24H0V0z\" fill=\"none\"/>\n",
              "    <path d=\"M18.56 5.44l.94 2.06.94-2.06 2.06-.94-2.06-.94-.94-2.06-.94 2.06-2.06.94zm-11 1L8.5 8.5l.94-2.06 2.06-.94-2.06-.94L8.5 2.5l-.94 2.06-2.06.94zm10 10l.94 2.06.94-2.06 2.06-.94-2.06-.94-.94-2.06-.94 2.06-2.06.94z\"/><path d=\"M17.41 7.96l-1.37-1.37c-.4-.4-.92-.59-1.43-.59-.52 0-1.04.2-1.43.59L10.3 9.45l-7.72 7.72c-.78.78-.78 2.05 0 2.83L4 21.41c.39.39.9.59 1.41.59.51 0 1.02-.2 1.41-.59l7.78-7.78 2.81-2.81c.8-.78.8-2.07 0-2.86zM5.41 20L4 18.59l7.72-7.72 1.47 1.35L5.41 20z\"/>\n",
              "  </svg>\n",
              "      </button>\n",
              "      \n",
              "  <style>\n",
              "    .colab-df-container {\n",
              "      display:flex;\n",
              "      flex-wrap:wrap;\n",
              "      gap: 12px;\n",
              "    }\n",
              "\n",
              "    .colab-df-convert {\n",
              "      background-color: #E8F0FE;\n",
              "      border: none;\n",
              "      border-radius: 50%;\n",
              "      cursor: pointer;\n",
              "      display: none;\n",
              "      fill: #1967D2;\n",
              "      height: 32px;\n",
              "      padding: 0 0 0 0;\n",
              "      width: 32px;\n",
              "    }\n",
              "\n",
              "    .colab-df-convert:hover {\n",
              "      background-color: #E2EBFA;\n",
              "      box-shadow: 0px 1px 2px rgba(60, 64, 67, 0.3), 0px 1px 3px 1px rgba(60, 64, 67, 0.15);\n",
              "      fill: #174EA6;\n",
              "    }\n",
              "\n",
              "    [theme=dark] .colab-df-convert {\n",
              "      background-color: #3B4455;\n",
              "      fill: #D2E3FC;\n",
              "    }\n",
              "\n",
              "    [theme=dark] .colab-df-convert:hover {\n",
              "      background-color: #434B5C;\n",
              "      box-shadow: 0px 1px 3px 1px rgba(0, 0, 0, 0.15);\n",
              "      filter: drop-shadow(0px 1px 2px rgba(0, 0, 0, 0.3));\n",
              "      fill: #FFFFFF;\n",
              "    }\n",
              "  </style>\n",
              "\n",
              "      <script>\n",
              "        const buttonEl =\n",
              "          document.querySelector('#df-efdb4de3-7118-473d-a41b-e4bc35d343e1 button.colab-df-convert');\n",
              "        buttonEl.style.display =\n",
              "          google.colab.kernel.accessAllowed ? 'block' : 'none';\n",
              "\n",
              "        async function convertToInteractive(key) {\n",
              "          const element = document.querySelector('#df-efdb4de3-7118-473d-a41b-e4bc35d343e1');\n",
              "          const dataTable =\n",
              "            await google.colab.kernel.invokeFunction('convertToInteractive',\n",
              "                                                     [key], {});\n",
              "          if (!dataTable) return;\n",
              "\n",
              "          const docLinkHtml = 'Like what you see? Visit the ' +\n",
              "            '<a target=\"_blank\" href=https://colab.research.google.com/notebooks/data_table.ipynb>data table notebook</a>'\n",
              "            + ' to learn more about interactive tables.';\n",
              "          element.innerHTML = '';\n",
              "          dataTable['output_type'] = 'display_data';\n",
              "          await google.colab.output.renderOutput(dataTable, element);\n",
              "          const docLink = document.createElement('div');\n",
              "          docLink.innerHTML = docLinkHtml;\n",
              "          element.appendChild(docLink);\n",
              "        }\n",
              "      </script>\n",
              "    </div>\n",
              "  </div>\n",
              "  "
            ],
            "text/plain": [
              "     userid  recency  frequency  ...  rec_quin  freq_quin  mv_quin\n",
              "0  63775658      309          7  ...         5          1        3\n",
              "1  64880613      297          8  ...         5          1        3\n",
              "2  65051746      295          1  ...         5          5        2\n",
              "3  66689882      277          1  ...         5          5        3\n",
              "4  68839217      259          1  ...         5          5        4\n",
              "\n",
              "[5 rows x 14 columns]"
            ]
          },
          "metadata": {},
          "execution_count": 51
        }
      ]
    },
    {
      "cell_type": "code",
      "source": [
        "avg_resp_rate_mv = data.groupby(\"mv_quin\").agg({\"buyer\":\"mean\"})\n",
        "avg_resp_rate_mv.rename(columns={\"buyer\":\"avg_resp_rate\"},inplace=True)\n",
        "avg_resp_rate_mv.plot.bar()"
      ],
      "metadata": {
        "colab": {
          "base_uri": "https://localhost:8080/",
          "height": 294
        },
        "id": "05UrMjenL69U",
        "outputId": "e1bc04cc-68ab-4419-a351-c8a5e4d13b76"
      },
      "execution_count": 52,
      "outputs": [
        {
          "output_type": "execute_result",
          "data": {
            "text/plain": [
              "<matplotlib.axes._subplots.AxesSubplot at 0x7fdbe54f1810>"
            ]
          },
          "metadata": {},
          "execution_count": 52
        },
        {
          "output_type": "display_data",
          "data": {
            "image/png": "[encoded data removed]",
            "text/plain": [
              "<Figure size 432x288 with 1 Axes>"
            ]
          },
          "metadata": {
            "needs_background": "light"
          }
        }
      ]
    },
    {
      "cell_type": "code",
      "source": [
        "tuangoBuyer = data[data[\"buyer\"]==1]\n",
        "avg_order_rate_mv = tuangoBuyer.groupby(\"mv_quin\").agg({\"ordersize\":\"mean\"})\n",
        "avg_order_rate_mv.rename(columns={\"buyer\":\"avg_spending_rate\"},inplace=True)\n",
        "avg_order_rate_mv = avg_order_rate_mv.reindex([1,2,3, 4,5],fill_value=0)\n",
        "avg_order_rate_mv.plot.bar()"
      ],
      "metadata": {
        "colab": {
          "base_uri": "https://localhost:8080/",
          "height": 294
        },
        "id": "wj5WDcvMVB6w",
        "outputId": "9cb6ae2b-1a13-4f69-fb27-b1d707ca86d4"
      },
      "execution_count": 55,
      "outputs": [
        {
          "output_type": "execute_result",
          "data": {
            "text/plain": [
              "<matplotlib.axes._subplots.AxesSubplot at 0x7fdbe53d65d0>"
            ]
          },
          "metadata": {},
          "execution_count": 55
        },
        {
          "output_type": "display_data",
          "data": {
            "image/png": "[encoded data removed]",
            "text/plain": [
              "<Figure size 432x288 with 1 Axes>"
            ]
          },
          "metadata": {
            "needs_background": "light"
          }
        }
      ]
    },
    {
      "cell_type": "code",
      "source": [
        "data.groupby(\"mv_quin\").agg({\"buyer\":\"mean\"})"
      ],
      "metadata": {
        "colab": {
          "base_uri": "https://localhost:8080/",
          "height": 237
        },
        "id": "FCTH63s0S_B9",
        "outputId": "999b813c-e841-47b5-da52-8f75ceab4e47"
      },
      "execution_count": 48,
      "outputs": [
        {
          "output_type": "execute_result",
          "data": {
            "text/html": [
              "\n",
              "  <div id=\"df-7aeeeac3-1056-4f2f-bd05-9f36739b694e\">\n",
              "    <div class=\"colab-df-container\">\n",
              "      <div>\n",
              "<style scoped>\n",
              "    .dataframe tbody tr th:only-of-type {\n",
              "        vertical-align: middle;\n",
              "    }\n",
              "\n",
              "    .dataframe tbody tr th {\n",
              "        vertical-align: top;\n",
              "    }\n",
              "\n",
              "    .dataframe thead th {\n",
              "        text-align: right;\n",
              "    }\n",
              "</style>\n",
              "<table border=\"1\" class=\"dataframe\">\n",
              "  <thead>\n",
              "    <tr style=\"text-align: right;\">\n",
              "      <th></th>\n",
              "      <th>buyer</th>\n",
              "    </tr>\n",
              "    <tr>\n",
              "      <th>mv_quin</th>\n",
              "      <th></th>\n",
              "    </tr>\n",
              "  </thead>\n",
              "  <tbody>\n",
              "    <tr>\n",
              "      <th>1</th>\n",
              "      <td>0.054348</td>\n",
              "    </tr>\n",
              "    <tr>\n",
              "      <th>2</th>\n",
              "      <td>0.040142</td>\n",
              "    </tr>\n",
              "    <tr>\n",
              "      <th>3</th>\n",
              "      <td>0.026937</td>\n",
              "    </tr>\n",
              "    <tr>\n",
              "      <th>4</th>\n",
              "      <td>0.024160</td>\n",
              "    </tr>\n",
              "    <tr>\n",
              "      <th>5</th>\n",
              "      <td>0.009650</td>\n",
              "    </tr>\n",
              "  </tbody>\n",
              "</table>\n",
              "</div>\n",
              "      <button class=\"colab-df-convert\" onclick=\"convertToInteractive('df-7aeeeac3-1056-4f2f-bd05-9f36739b694e')\"\n",
              "              title=\"Convert this dataframe to an interactive table.\"\n",
              "              style=\"display:none;\">\n",
              "        \n",
              "  <svg xmlns=\"http://www.w3.org/2000/svg\" height=\"24px\"viewBox=\"0 0 24 24\"\n",
              "       width=\"24px\">\n",
              "    <path d=\"M0 0h24v24H0V0z\" fill=\"none\"/>\n",
              "    <path d=\"M18.56 5.44l.94 2.06.94-2.06 2.06-.94-2.06-.94-.94-2.06-.94 2.06-2.06.94zm-11 1L8.5 8.5l.94-2.06 2.06-.94-2.06-.94L8.5 2.5l-.94 2.06-2.06.94zm10 10l.94 2.06.94-2.06 2.06-.94-2.06-.94-.94-2.06-.94 2.06-2.06.94z\"/><path d=\"M17.41 7.96l-1.37-1.37c-.4-.4-.92-.59-1.43-.59-.52 0-1.04.2-1.43.59L10.3 9.45l-7.72 7.72c-.78.78-.78 2.05 0 2.83L4 21.41c.39.39.9.59 1.41.59.51 0 1.02-.2 1.41-.59l7.78-7.78 2.81-2.81c.8-.78.8-2.07 0-2.86zM5.41 20L4 18.59l7.72-7.72 1.47 1.35L5.41 20z\"/>\n",
              "  </svg>\n",
              "      </button>\n",
              "      \n",
              "  <style>\n",
              "    .colab-df-container {\n",
              "      display:flex;\n",
              "      flex-wrap:wrap;\n",
              "      gap: 12px;\n",
              "    }\n",
              "\n",
              "    .colab-df-convert {\n",
              "      background-color: #E8F0FE;\n",
              "      border: none;\n",
              "      border-radius: 50%;\n",
              "      cursor: pointer;\n",
              "      display: none;\n",
              "      fill: #1967D2;\n",
              "      height: 32px;\n",
              "      padding: 0 0 0 0;\n",
              "      width: 32px;\n",
              "    }\n",
              "\n",
              "    .colab-df-convert:hover {\n",
              "      background-color: #E2EBFA;\n",
              "      box-shadow: 0px 1px 2px rgba(60, 64, 67, 0.3), 0px 1px 3px 1px rgba(60, 64, 67, 0.15);\n",
              "      fill: #174EA6;\n",
              "    }\n",
              "\n",
              "    [theme=dark] .colab-df-convert {\n",
              "      background-color: #3B4455;\n",
              "      fill: #D2E3FC;\n",
              "    }\n",
              "\n",
              "    [theme=dark] .colab-df-convert:hover {\n",
              "      background-color: #434B5C;\n",
              "      box-shadow: 0px 1px 3px 1px rgba(0, 0, 0, 0.15);\n",
              "      filter: drop-shadow(0px 1px 2px rgba(0, 0, 0, 0.3));\n",
              "      fill: #FFFFFF;\n",
              "    }\n",
              "  </style>\n",
              "\n",
              "      <script>\n",
              "        const buttonEl =\n",
              "          document.querySelector('#df-7aeeeac3-1056-4f2f-bd05-9f36739b694e button.colab-df-convert');\n",
              "        buttonEl.style.display =\n",
              "          google.colab.kernel.accessAllowed ? 'block' : 'none';\n",
              "\n",
              "        async function convertToInteractive(key) {\n",
              "          const element = document.querySelector('#df-7aeeeac3-1056-4f2f-bd05-9f36739b694e');\n",
              "          const dataTable =\n",
              "            await google.colab.kernel.invokeFunction('convertToInteractive',\n",
              "                                                     [key], {});\n",
              "          if (!dataTable) return;\n",
              "\n",
              "          const docLinkHtml = 'Like what you see? Visit the ' +\n",
              "            '<a target=\"_blank\" href=https://colab.research.google.com/notebooks/data_table.ipynb>data table notebook</a>'\n",
              "            + ' to learn more about interactive tables.';\n",
              "          element.innerHTML = '';\n",
              "          dataTable['output_type'] = 'display_data';\n",
              "          await google.colab.output.renderOutput(dataTable, element);\n",
              "          const docLink = document.createElement('div');\n",
              "          docLink.innerHTML = docLinkHtml;\n",
              "          element.appendChild(docLink);\n",
              "        }\n",
              "      </script>\n",
              "    </div>\n",
              "  </div>\n",
              "  "
            ],
            "text/plain": [
              "            buyer\n",
              "mv_quin          \n",
              "1        0.054348\n",
              "2        0.040142\n",
              "3        0.026937\n",
              "4        0.024160\n",
              "5        0.009650"
            ]
          },
          "metadata": {},
          "execution_count": 48
        }
      ]
    },
    {
      "cell_type": "markdown",
      "source": [
        "**Profitability Analysis**\n",
        "- Break-Even"
      ],
      "metadata": {
        "id": "p94FRqKWJn9-"
      }
    },
    {
      "cell_type": "code",
      "source": [
        "unit_sales = data[\"ordersize\"].sum() / data[\"buyer\"].sum()\n",
        "unit_profit = unit_sales * 0.5\n",
        "unit_mkt_cost = 1.6\n",
        "break_even = unit_mkt_cost / unit_profit\n",
        "print(break_even)"
      ],
      "metadata": {
        "colab": {
          "base_uri": "https://localhost:8080/"
        },
        "id": "ZoS2dgV1Va_Q",
        "outputId": "fd483adc-2771-4d87-b569-9da81dc7ce41"
      },
      "execution_count": 56,
      "outputs": [
        {
          "output_type": "stream",
          "name": "stdout",
          "text": [
            "0.015813676817131483\n"
          ]
        }
      ]
    },
    {
      "cell_type": "code",
      "source": [
        ""
      ],
      "metadata": {
        "id": "G_v7_rgrV1s6"
      },
      "execution_count": null,
      "outputs": []
    },
    {
      "cell_type": "markdown",
      "source": [
        "projected profit and roi"
      ],
      "metadata": {
        "id": "8peZ-MPMJn8K"
      }
    },
    {
      "cell_type": "code",
      "source": [
        "avg_resp_rate = sum(data[\"buyer\"] == 1)/len(data[\"buyer\"])\n",
        "project_profit = 264841 * avg_resp_rate * unit_profit\n",
        "project_profit"
      ],
      "metadata": {
        "colab": {
          "base_uri": "https://localhost:8080/"
        },
        "id": "Z3qB_wBiV68G",
        "outputId": "dc0dc4af-8bad-4d5a-b915-ae26b8af1017"
      },
      "execution_count": 58,
      "outputs": [
        {
          "output_type": "execute_result",
          "data": {
            "text/plain": [
              "830471.0"
            ]
          },
          "metadata": {},
          "execution_count": 58
        }
      ]
    },
    {
      "cell_type": "code",
      "source": [
        "project_ROI = project_profit / (264841 * unit_mkt_cost)\n",
        "project_ROI"
      ],
      "metadata": {
        "colab": {
          "base_uri": "https://localhost:8080/"
        },
        "id": "JP4MvnJ-W6lR",
        "outputId": "674a658b-d1e5-40fa-8633-4a05f2404a67"
      },
      "execution_count": 63,
      "outputs": [
        {
          "output_type": "execute_result",
          "data": {
            "text/plain": [
              "1.959833919219456"
            ]
          },
          "metadata": {},
          "execution_count": 63
        }
      ]
    },
    {
      "cell_type": "code",
      "source": [
        "avg_resp_rate_rfm_sq = data.groupby(\"rfm1\").agg({\"buyer\":\"mean\"})\n",
        "avg_resp_rate_rfm_sq.plot.bar()"
      ],
      "metadata": {
        "colab": {
          "base_uri": "https://localhost:8080/",
          "height": 305
        },
        "id": "X-KVvxtOX8It",
        "outputId": "b87960e7-e4dc-4ac1-fa59-1cc353f297c2"
      },
      "execution_count": 65,
      "outputs": [
        {
          "output_type": "execute_result",
          "data": {
            "text/plain": [
              "<matplotlib.axes._subplots.AxesSubplot at 0x7fdbe5824710>"
            ]
          },
          "metadata": {},
          "execution_count": 65
        },
        {
          "output_type": "display_data",
          "data": {
            "image/png": "[encoded data removed]",
            "text/plain": [
              "<Figure size 432x288 with 1 Axes>"
            ]
          },
          "metadata": {
            "needs_background": "light"
          }
        }
      ]
    },
    {
      "cell_type": "markdown",
      "source": [
        ""
      ],
      "metadata": {
        "id": "qCsfJ3lnJn5N"
      }
    },
    {
      "cell_type": "markdown",
      "source": [
        ""
      ],
      "metadata": {
        "id": "pPlSboo8Jn26"
      }
    },
    {
      "cell_type": "markdown",
      "source": [
        ""
      ],
      "metadata": {
        "id": "tGT9gj4oJn0o"
      }
    },
    {
      "cell_type": "markdown",
      "source": [
        ""
      ],
      "metadata": {
        "id": "9vyMcv9mJnyM"
      }
    },
    {
      "cell_type": "markdown",
      "source": [
        ""
      ],
      "metadata": {
        "id": "o-CsuZaNJnvv"
      }
    },
    {
      "cell_type": "markdown",
      "source": [
        ""
      ],
      "metadata": {
        "id": "fvsyMEFOJnir"
      }
    },
    {
      "cell_type": "markdown",
      "source": [
        "Auto RFM Analysis:\n",
        "\n",
        "- Objective: construct a class to use the current dataset to automatically generate RFM analysis report\n",
        "  - recency data\n",
        "  - frequency data\n",
        "  - monetary data\n",
        "  - quantile number\n",
        "  - reponse data\n",
        "  - order size or other variables\n",
        "\n",
        "- Reports should have:\n",
        "  - Preliminary and Quintile Analysis\n",
        "    - what percentage of customer response: average repsonse rate for buyer and non-buyer\n",
        "    - what the average spending: if we have order size data, we can generate this one\n",
        "    - create quantile table for recency, frequency, and monetary data\n",
        "    - based on the quantile table, create bar plot for average repsonse rate for each RFM\n",
        "    - if we have order size data, create bar plot for average spending rate for each RFM\n",
        "  - Profitability Anlaysis\n",
        "    - Break-Even point: unit sale, unit profit, unit market cost\n",
        "    - ROI\n",
        "    - Response rate by sequential FRM cells or by independent FRM cells\n"
      ],
      "metadata": {
        "id": "IACTz4AuJm-T"
      }
    },
    {
      "cell_type": "code",
      "execution_count": null,
      "metadata": {
        "id": "59N6-n7_CC8E"
      },
      "outputs": [],
      "source": [
        "class RFM(object):\n",
        "  # initialize parameters\n",
        "  def __init__(self):\n",
        "    self.data = data\n",
        "    self.xtile = 5\n",
        "    pass\n",
        "  \n",
        "  def quantile(self):\n",
        "    if self.xtile == 5:\n",
        "      Q = [0.2,0.4,0.6,0.8]\n",
        "      quintilesTable = self.data[[\"recency\",\"frequency\",\"monetary\"]].quantile(q=Q)\n",
        "    \n",
        "    return quintilesTable\n",
        "\n",
        "  def dataTable(self):\n",
        "    quintilesTable = self.quantile()\n",
        "    newTable = self.data.copy()\n",
        "    newTable[\"rec_quin\"] = self.data[\"recency\"].apply(\n",
        "      lambda x: 1 if x<= quintilesTable[\"recency\"][0.2] \n",
        "      else (2 if x<= quintilesTable[\"recency\"][0.4] \n",
        "            else (3 if x <= quintilesTable[\"recency\"][0.6] \n",
        "                  else (4 if x <= quintilesTable[\"recency\"][0.8] else 5))))\n",
        "    \n",
        "    newTable[\"freq_quin\"] = self.data[\"frequency\"].apply(\n",
        "      lambda x: 5 if x<=quintilesTable[\"frequency\"][0.2] \n",
        "      else (4 if x<=quintilesTable[\"frequency\"][0.4] \n",
        "            else (3 if x <= quintilesTable[\"frequency\"][0.6] \n",
        "                  else (2 if x <= quintilesTable[\"frequency\"][0.8] else 1))))\n",
        "    \n",
        "    newTable[\"mv_quin\"] = self.data[\"monetary\"].apply(\n",
        "      lambda x: 5 if x<= quintilesTable[\"monetary\"][0.2] \n",
        "      else (4 if x<= quintilesTable[\"monetary\"][0.4] \n",
        "            else (3 if x <= quintilesTable[\"monetary\"][0.6] \n",
        "                  else (2 if x <= quintilesTable[\"monetary\"][0.8] else 1))))\n",
        "    \n",
        "    return newTable\n",
        "\n",
        "  "
      ]
    }
  ]
}